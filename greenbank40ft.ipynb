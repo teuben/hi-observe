{
 "cells": [
  {
   "cell_type": "markdown",
   "metadata": {},
   "source": [
    "# Observing with the Greenbank 40ft transit radio telescope\n",
    "\n",
    "\n",
    "![Greenbank40ft](40ft1_nrao.jpg \"the Greenbank 40ft\")\n",
    "\n",
    "This is not a photo from the 60s, the diesel cars are!"
   ]
  },
  {
   "cell_type": "code",
   "execution_count": null,
   "metadata": {},
   "outputs": [],
   "source": [
    "%matplotlib inline\n",
    "import numpy as np\n",
    "import matplotlib.pyplot as plt\n",
    "\n",
    "\n",
    "# a special interface to obtain an HI spectrum from a survey\n",
    "import hi_observe as hi"
   ]
  },
  {
   "cell_type": "code",
   "execution_count": null,
   "metadata": {},
   "outputs": [],
   "source": [
    "rah=20    # LST hours\n",
    "ram=58    # LST minutes\n",
    "ras=15    # LST seconds\n",
    "dec=42    # declination (degrees)\n",
    "(chans,flux) = hi.greenbank40ft(rah,ram,ras,dec)"
   ]
  },
  {
   "cell_type": "code",
   "execution_count": null,
   "metadata": {},
   "outputs": [],
   "source": [
    "plt.plot(chans,flux);"
   ]
  }
 ],
 "metadata": {
  "kernelspec": {
   "display_name": "Python 3",
   "language": "python",
   "name": "python3"
  },
  "language_info": {
   "codemirror_mode": {
    "name": "ipython",
    "version": 3
   },
   "file_extension": ".py",
   "mimetype": "text/x-python",
   "name": "python",
   "nbconvert_exporter": "python",
   "pygments_lexer": "ipython3",
   "version": "3.8.3"
  }
 },
 "nbformat": 4,
 "nbformat_minor": 4
}
