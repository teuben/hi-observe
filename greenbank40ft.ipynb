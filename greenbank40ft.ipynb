{
 "cells": [
  {
   "cell_type": "markdown",
   "metadata": {},
   "source": [
    "# Observing with the Greenbank 40ft transit radio telescope\n",
    "\n",
    "This telescope is always pointing south, you can only move it up and down the declination axis!\n",
    "\n",
    "![Greenbank40ft](40ft1_nrao.jpg \"the Greenbank 40ft\")\n",
    "\n",
    "This is not a photo from the 60s, the diesel cars are!\n",
    "\n",
    "![stripchart](Greenbank40ft-cmp.jpg \"Example stripchart from greenbank40ft\")"
   ]
  },
  {
   "cell_type": "code",
   "execution_count": null,
   "metadata": {},
   "outputs": [],
   "source": [
    "%matplotlib inline\n",
    "import numpy as np\n",
    "import matplotlib.pyplot as plt\n",
    "\n",
    "\n",
    "# a special interface to obtain an HI spectrum from a survey\n",
    "import hi_observe as HI"
   ]
  },
  {
   "cell_type": "markdown",
   "metadata": {},
   "source": [
    "If there was an error, let us check the files you have in your directory. There should be either the BL.fits and/or LAB.fits file.\n"
   ]
  },
  {
   "cell_type": "code",
   "execution_count": null,
   "metadata": {},
   "outputs": [],
   "source": [
    "#   comment out one of these (\"ls\" for Unix, \"dir\" for Windows)\n",
    "#!ls -l\n",
    "#!dir"
   ]
  },
  {
   "cell_type": "markdown",
   "metadata": {},
   "source": [
    "# The observing manual:\n",
    "\n",
    "https://greenbankobservatory.org/wp-content/uploads/2018/02/40-manual.pdf\n",
    " \n",
    " \n",
    "* The LST (Local Siderial Time) is the RA (Right Ascension) where \"south\" is pointing to. \n",
    "* LST is truly local, the LST in Greenbank is different from the LST at the UMD observatory\n",
    "* The longitude on earth determines your LST\n",
    "* The latitude on earth determines what portion of the sky you can see\n",
    "* In the \"virtual observing\" command below we are cheating, and pass the LST. At the telescope you can **only** set the **dec**"
   ]
  },
  {
   "cell_type": "code",
   "execution_count": null,
   "metadata": {},
   "outputs": [],
   "source": [
    "rah=20    # LST hours  (yes, we are cheating)\n",
    "ram=58    # LST minutes\n",
    "ras=15    # LST seconds\n",
    "dec=42    # declination (degrees)\n",
    "(chans,flux) = HI.greenbank40ft(rah,ram,ras,dec)"
   ]
  },
  {
   "cell_type": "code",
   "execution_count": null,
   "metadata": {},
   "outputs": [],
   "source": [
    "plt.plot(chans,flux);"
   ]
  },
  {
   "cell_type": "code",
   "execution_count": null,
   "metadata": {},
   "outputs": [],
   "source": [
    "HI.lst()\n"
   ]
  },
  {
   "cell_type": "code",
   "execution_count": null,
   "metadata": {},
   "outputs": [],
   "source": []
  },
  {
   "cell_type": "markdown",
   "metadata": {},
   "source": [
    "# Things to try out\n",
    "\n",
    "[(local link)](things_to_try.md) or\n",
    "[(github link)](https://github.com/teuben/hi-observe/blob/master/things_to_try.md)\n"
   ]
  },
  {
   "cell_type": "code",
   "execution_count": null,
   "metadata": {},
   "outputs": [],
   "source": []
  }
 ],
 "metadata": {
  "kernelspec": {
   "display_name": "Python 3",
   "language": "python",
   "name": "python3"
  },
  "language_info": {
   "codemirror_mode": {
    "name": "ipython",
    "version": 3
   },
   "file_extension": ".py",
   "mimetype": "text/x-python",
   "name": "python",
   "nbconvert_exporter": "python",
   "pygments_lexer": "ipython3",
   "version": "3.8.3"
  }
 },
 "nbformat": 4,
 "nbformat_minor": 4
}
