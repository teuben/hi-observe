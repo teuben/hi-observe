{
 "cells": [
  {
   "cell_type": "markdown",
   "metadata": {},
   "source": [
    "# Spectral Line Data Cubes in Astronomy\n",
    "\n",
    "In this notebook we will use spectral line data cubes in astronomy. They are a convenient way to store many spectra at points in the sky. Much like having a spectrum at every pixel in a CCD. Here we will keep it as much \"pure python\", and not use astronomical units and just work in \"pixel\" or \"voxel\" space.   \n",
    "\n",
    "These typed of data are normally presented as a [FITS](https://en.wikipedia.org/wiki/FITS) file, with two sky coordinates (often Right Ascension and Declination, but sometimes Galactic Longitude and Galactic Latitude) and one spectral coordinate (either an observing frequency or wavelength, and when there is a known spectral line, you can reference using this line with a velocity using the doppler effect). For radio data, such as ALMA and the VLA, we often use GHz or MHz. For optical data we often use the Angstrom (the visible range is around 4000 - 8000 Angstrom, or 400 - 800 nm).\n",
    "\n",
    "![Example Cube](cube_dims_and_cell.png \"just an example cube\")"
   ]
  },
  {
   "cell_type": "markdown",
   "metadata": {},
   "source": [
    "# Predicting HI profiles \n",
    "\n",
    "This notebook was derived from a script **hi-observe.py**, which uses the command line. It exacts a spectrum from a FITS cube. The output figure can be compared to the strip chart you have obtained with the Greenbank 40ft.\n"
   ]
  },
  {
   "cell_type": "code",
   "execution_count": null,
   "metadata": {},
   "outputs": [],
   "source": [
    "%matplotlib inline\n",
    "\n",
    "import sys\n",
    "import numpy as np\n",
    "import matplotlib.pyplot as plt\n",
    "from astropy.io import fits\n",
    "from astropy import units as u\n",
    "from astropy.coordinates import SkyCoord\n"
   ]
  },
  {
   "cell_type": "markdown",
   "metadata": {},
   "source": [
    "## Telescope Data\n",
    "\n",
    "### LAB  (Leiden/Argentine/Bonn)survey\n",
    "\n",
    "The **LAB.fits** file is a large HI survey. (Ref: [CDS](http://cdsarc.u-strasbg.fr/viz-bin/cat/VIII/76)). It is an all sky survey, taken with two nearly identical telescopes on the northern and southern hemisphere. It has a 0.5 degree (size of the sun/moon), so half the resolution as the Greenbank 40ft.\n",
    "\n",
    "There is a copy in https://www.astro.umd.edu/~teuben/LAB.fits or https://www.astro.umd.edu/~teuben/LAB.zip\n",
    "\n",
    "Make sure the FITS file is in the directory where this notebook is.\n",
    "\n",
    "### BL: Bell Labs  survey\n",
    "\n",
    "Alternatively, you can download **BL.fits**, the smaller and lower resolution Bell Labs Survey, which you can find referenced in [CDS](ftp://cdsarc.u-strasbg.fr/pub/cats/VIII/28). This is the one with a 2 degree beam, about the resolution of a rat, and twice the resolution of the Greenbank 40ft.\n",
    "\n",
    "\n",
    "There is a copy in https://www.astro.umd.edu/~teuben/BL.fits or https://www.astro.umd.edu/~teuben/BL.zip\n",
    "\n",
    "\n",
    "### DS9: viewing FITS files like images\n",
    "\n",
    "There are many FITS viewers available, my favorite one is [ds9](https://sites.google.com/cfa.harvard.edu/saoimageds9).  In your free time, I encourage you to play with ds9 and one of the datasets.\n",
    "\n",
    "Alternatives are:   [QFitsView](https://www.mpe.mpg.de/~ott/QFitsView/) and a more experimental [CARTA](https://cartavis.github.io/)\n"
   ]
  },
  {
   "cell_type": "markdown",
   "metadata": {},
   "source": [
    "Now two cells with alternative download methods. You should be able to skip them."
   ]
  },
  {
   "cell_type": "code",
   "execution_count": null,
   "metadata": {},
   "outputs": [],
   "source": [
    "%%bash\n",
    "\n",
    "if [ ! -e LAB.fits ]; then\n",
    "   # there is also LAB.zip, but then you need more space, and run unzip LAB.zip\n",
    "   wget https://www.astro.umd.edu/~teuben/LAB.fits\n",
    "else\n",
    "   echo You already have LAB.fits\n",
    "fi"
   ]
  },
  {
   "cell_type": "code",
   "execution_count": null,
   "metadata": {},
   "outputs": [],
   "source": [
    "%%bash\n",
    "\n",
    "if [ ! -e BL.fits ]; then\n",
    "   wget https://www.astro.umd.edu/~teuben/BL.fits\n",
    "else\n",
    "   echo You already have LAB.fits\n",
    "fi"
   ]
  },
  {
   "cell_type": "code",
   "execution_count": null,
   "metadata": {},
   "outputs": [],
   "source": [
    "fitsfile = 'LAB.fits'       #  (891, 361, 721) 460MB \n",
    "#fitsfile = 'BL.fits'       #  (145, 400, 800)  92MB"
   ]
  },
  {
   "cell_type": "code",
   "execution_count": null,
   "metadata": {
    "scrolled": true
   },
   "outputs": [],
   "source": [
    "!ls -l\n"
   ]
  },
  {
   "cell_type": "code",
   "execution_count": null,
   "metadata": {},
   "outputs": [],
   "source": [
    "%%bash\n",
    "\n",
    "ls -l"
   ]
  },
  {
   "cell_type": "markdown",
   "metadata": {},
   "source": [
    "First two convenience functions that transform between the equatorial RA,DEC (or $\\alpha,\\delta$) and galatic GLON,GLAT ($l,b$) systems"
   ]
  },
  {
   "cell_type": "code",
   "execution_count": null,
   "metadata": {},
   "outputs": [],
   "source": [
    "def radec_glonlat(rah,ram,ras,dec):\n",
    "    \"\"\"\n",
    "    Simple conversion of 40ft RA(LST)/DEC to GLON/GLAT\n",
    "    E.g. is LST = 12:10:30 and DEC=52 you would call\n",
    "    this routine as   (glon,glat) = radec_glonlat(12,10,30,52)\n",
    "    \"\"\"\n",
    "    r = rah*u.hour  + ram*u.minute + ras*u.second\n",
    "    d = dec*u.deg\n",
    "    c = SkyCoord(ra=r, dec=d, frame='icrs')\n",
    "    g = c.galactic.to_string().split()\n",
    "    return (float(g[0]),float(g[1]))\n"
   ]
  },
  {
   "cell_type": "code",
   "execution_count": null,
   "metadata": {},
   "outputs": [],
   "source": [
    "def glonlat_radec(glon,glat):\n",
    "    \"\"\"\n",
    "    Convert GLON/GLAT to RA/DEC\n",
    "    \"\"\"\n",
    "    lon = glon*u.deg\n",
    "    lat = glat*u.deg\n",
    "    c = SkyCoord(l=lon, b=lat, frame='galactic')\n",
    "    g = c.icrs.to_string().split()\n",
    "    return (float(g[0]),float(g[1]))\n"
   ]
  },
  {
   "cell_type": "markdown",
   "metadata": {},
   "source": [
    "It is always good to have a quick (regression) test to see if the function still works as when we wrote it.\n"
   ]
  },
  {
   "cell_type": "code",
   "execution_count": null,
   "metadata": {},
   "outputs": [],
   "source": [
    "# testing the functions\n",
    "(glon,glat) = radec_glonlat(21,0,0,42)\n",
    "(ra,dec)    = glonlat_radec(glon,glat)\n",
    "print(\"test1: radec_glonlat(20,58,15,42) should produce 83.886 -2.67928:   %g %g\" % (glon,glat))\n",
    "print(\"test2: glonlat_radec(glon,glat)   should produce 315 42:            %g %g\" % (ra,dec))\n"
   ]
  },
  {
   "cell_type": "markdown",
   "metadata": {},
   "source": [
    "Define some constants we might need (but actually not in the current version of this code)"
   ]
  },
  {
   "cell_type": "code",
   "execution_count": null,
   "metadata": {},
   "outputs": [],
   "source": [
    "c        = 299792.458         # speed of light in km/s\n",
    "restfreq = 1420.405751786     # HI restfreq in MHz\n",
    "\n"
   ]
  },
  {
   "cell_type": "markdown",
   "metadata": {},
   "source": [
    "The wavelength and frequency of a wave is related to the transmission speed of the wave:\n",
    "$$\n",
    "     \\lambda = {c \\over \\nu}\n",
    "$$\n",
    "where $\\lambda$ and $\\nu$ are the wavelength and frequency resp. We do need to put the numbers in the right units, though,\n",
    "but here should be the expression:\n"
   ]
  },
  {
   "cell_type": "markdown",
   "metadata": {},
   "source": [
    "Now we set the input parameters for the spectrum. The filename, and the position, but we allow 3 methods to enter the position.\n",
    "\n",
    "For this project the easiest is a full sky HI survey, \n",
    "in the form of the **LAB.fits** file. It can be obtained from [ftp://cdsarc.u-strasbg.fr/pub/cats/VIII/76/lab.fit.gz](ftp://cdsarc.u-strasbg.fr/pub/cats/VIII/76/lab.fit.gz)\n",
    "by uncompressing and renaming this appropriately."
   ]
  },
  {
   "cell_type": "code",
   "execution_count": null,
   "metadata": {},
   "outputs": [],
   "source": [
    "wavelength = (c*1000) / (restfreq*1000000)\n",
    "\n",
    "print(\"Wavelength of HI = %g m\" % wavelength)"
   ]
  },
  {
   "cell_type": "code",
   "execution_count": null,
   "metadata": {},
   "outputs": [],
   "source": [
    "method = 2\n",
    "\n",
    "if method == 1:                                           # give the GLON/GLAT\n",
    "    xpos = 83.0\n",
    "    ypos = -2.0\n",
    "    have_pixel = False\n",
    "elif method == 2:                                         # give the RA/DEC or Greenbank40ft the LST,DEC  \n",
    "    rah = 20\n",
    "    ram = 58\n",
    "    ras = 15\n",
    "    dec = 42\n",
    "    (xpos,ypos)= radec_glonlat(rah,ram,ras,dec)\n",
    "    have_pixel = False\n",
    "else:                                                     # give the pixel coordinates\n",
    "    xpos = 612\n",
    "    ypos = 193\n",
    "    have_pixel = True\n",
    "    "
   ]
  },
  {
   "cell_type": "code",
   "execution_count": null,
   "metadata": {},
   "outputs": [],
   "source": [
    "fitsfile = 'LAB.fits' \n",
    "fitsfile = 'BL.fits'"
   ]
  },
  {
   "cell_type": "code",
   "execution_count": null,
   "metadata": {},
   "outputs": [],
   "source": [
    "# open the fits file (a FITS file has one or more Header-Data-Unit's, HDU's)\n",
    "hdu = fits.open(fitsfile)\n",
    "\n",
    "print(\"Opened FITS file %s with %d HDU's\"  %  (fitsfile,len(hdu)))"
   ]
  },
  {
   "cell_type": "code",
   "execution_count": null,
   "metadata": {},
   "outputs": [],
   "source": [
    "# get a reference to the primary header and data.\n",
    "h = hdu[0].header\n",
    "d = hdu[0].data          # sometimes you need data.squeeze() to get rid of redundant dimensions\n",
    "print(\"Filename       :\",fitsfile)\n",
    "print(\"Shape of cube  :\",d.shape)\n",
    "if len(d.shape) != 3:                 # The data better be 3-dim numpy array now\n",
    "    print(\"Your cube is not 3D\")\n",
    "    sys.exit(1)\n",
    "\n",
    "# get the important coordinate conversion factors that scale between pixels and WCS\n",
    "\n",
    "# axis 1 is GLON, in degrees\n",
    "cdelt1 = h['CDELT1']\n",
    "crval1 = h['CRVAL1']\n",
    "crpix1 = h['CRPIX1']\n",
    "ctype1 = h['CTYPE1']\n",
    "\n",
    "# axis 2 is GLAT, in degrees\n",
    "cdelt2 = h['CDELT2']\n",
    "crval2 = h['CRVAL2']\n",
    "crpix2 = h['CRPIX2']\n",
    "ctype2 = h['CTYPE2']\n",
    "\n",
    "# axis 3 is FELO, velocities in m/s (which we later convert to km/s)\n",
    "cdelt3 = h['CDELT3']\n",
    "crval3 = h['CRVAL3']\n",
    "crpix3 = h['CRPIX3']\n",
    "ctype3 = h['CTYPE3']\n",
    "\n",
    "print(\"Cube axis names:  %s , %s , %s\"  %  (ctype1,ctype2,ctype3))"
   ]
  },
  {
   "cell_type": "markdown",
   "metadata": {},
   "source": [
    "Note that numpy arrays store the data in [VEL,GLAT,GLON] order, so we have 721 coordinates in RA in this example."
   ]
  },
  {
   "cell_type": "code",
   "execution_count": null,
   "metadata": {},
   "outputs": [],
   "source": [
    "if not have_pixel:\n",
    "    # need to convert the xpos,ypos (in WCS) to pixel\n",
    "    #    xpos_wcs = (xpos_pix - crpix + 1) * cdelt + crval\n",
    "    #    xpos_pix = (xpos_wcs - crval)/cdelt + crpix - 1\n",
    "    xposl = xpos\n",
    "    yposb = ypos\n",
    "    xpos = (xposl - crval1)/cdelt1 + crpix1 - 1 \n",
    "    ypos = (yposb - crval2)/cdelt2 + crpix2 - 1\n",
    "    print(\"Pixel: %g %g (converted from WCS %g %g)\" % (xpos,ypos,xposl,yposb))\n",
    "    xpos = int(xpos)\n",
    "    ypos = int(ypos)"
   ]
  },
  {
   "cell_type": "markdown",
   "metadata": {},
   "source": [
    "Now we grab get the spectrum using a numpy slice operation.\n",
    "This will be the Y (intensity) coordinate in the spectrum plot below.\n"
   ]
  },
  {
   "cell_type": "code",
   "execution_count": null,
   "metadata": {},
   "outputs": [],
   "source": [
    "flux     = d[:,ypos,xpos]\n",
    "\n",
    "#   some helper arrays for the X (velocity) coordinate in the plot\n",
    "nchan    = len(flux)       \n",
    "zero     = np.zeros(nchan)\n",
    "channeln = np.arange(nchan)\n",
    "channelf = (channeln-crpix3+1)*cdelt3 + crval3   # WCS in m/s, notice channeln starts at 0\n",
    "channelv = channelf / 1000.0                     # convert assumed m/s to km/s\n",
    "print(\"MinMax in velocities:\",channelv.min(), channelv.max())\n",
    "\n"
   ]
  },
  {
   "cell_type": "code",
   "execution_count": null,
   "metadata": {},
   "outputs": [],
   "source": [
    "plt.plot(channelv,flux,'o-',markersize=2,label='HI-spectrum')\n",
    "plt.plot(channelv,zero,                  label='baseline')\n",
    "plt.xlabel(\"Doppler Velocity (km/s)\")\n",
    "plt.ylabel(\"Brightness\")\n",
    "plt.title(\"%s  @ %g %g\" % (fitsfile,xpos,ypos))\n",
    "plt.legend();"
   ]
  },
  {
   "cell_type": "markdown",
   "metadata": {},
   "source": [
    "Finally just some statistics of the spectrum"
   ]
  },
  {
   "cell_type": "code",
   "execution_count": null,
   "metadata": {},
   "outputs": [],
   "source": [
    "print(\"Mean and RMS of %d points: %g %g\" % (len(flux),flux.mean(),flux.std()))"
   ]
  },
  {
   "cell_type": "code",
   "execution_count": null,
   "metadata": {},
   "outputs": [],
   "source": []
  }
 ],
 "metadata": {
  "kernelspec": {
   "display_name": "Python 3",
   "language": "python",
   "name": "python3"
  },
  "language_info": {
   "codemirror_mode": {
    "name": "ipython",
    "version": 3
   },
   "file_extension": ".py",
   "mimetype": "text/x-python",
   "name": "python",
   "nbconvert_exporter": "python",
   "pygments_lexer": "ipython3",
   "version": "3.8.3"
  }
 },
 "nbformat": 4,
 "nbformat_minor": 2
}
