{
 "cells": [
  {
   "cell_type": "markdown",
   "metadata": {},
   "source": [
    "# Predicting HI profiles \n",
    "\n",
    "This notebook was derived from hi-observe.py, which is the command line version of extracting spectra from a FITS cube. The output figure can be compared to the strip chart you have obtained with the 40ft.\n"
   ]
  },
  {
   "cell_type": "code",
   "execution_count": 1,
   "metadata": {
    "collapsed": true
   },
   "outputs": [],
   "source": [
    "%matplotlib inline\n",
    "\n",
    "import sys\n",
    "import numpy as np\n",
    "import matplotlib.pyplot as plt\n",
    "from astropy.io import fits\n",
    "from astropy import units as u\n",
    "from astropy.coordinates import SkyCoord\n"
   ]
  },
  {
   "cell_type": "markdown",
   "metadata": {},
   "source": [
    "First two convenience functions that transform between RA,DEC and GLON,GLAT"
   ]
  },
  {
   "cell_type": "code",
   "execution_count": 2,
   "metadata": {
    "collapsed": true
   },
   "outputs": [],
   "source": [
    "def radec_glonlat(rah,ram,ras,dec):\n",
    "    \"\"\"\n",
    "    Simple conversion of 40ft RA(LST)/DEC to GLON/GLAT\n",
    "    E.g. is LST = 12:10:30 and DEC=52 you would call\n",
    "    this routine as   (glon,glat) = radec_glonlat(12,10,30,52)\n",
    "    \"\"\"\n",
    "    r = rah*u.hour  + ram*u.minute + ras*u.second\n",
    "    d = dec*u.deg\n",
    "    c = SkyCoord(ra=r, dec=d, frame='icrs')\n",
    "    g = c.galactic.to_string().split()\n",
    "    return (float(g[0]),float(g[1]))\n"
   ]
  },
  {
   "cell_type": "code",
   "execution_count": 3,
   "metadata": {
    "collapsed": true
   },
   "outputs": [],
   "source": [
    "def glonlat_radec(glon,glat):\n",
    "    \"\"\"\n",
    "    Convert GLON/GLAT to RA/DEC\n",
    "    \"\"\"\n",
    "    lon = glon*u.deg\n",
    "    lat = glat*u.deg\n",
    "    c = SkyCoord(l=lon, b=lat, frame='galactic')\n",
    "    g = c.icrs.to_string().split()\n",
    "    return (float(g[0]),float(g[1]))\n"
   ]
  },
  {
   "cell_type": "markdown",
   "metadata": {},
   "source": [
    "It is always good to have a quick (regression) test to see if the function still works as when we wrote it.\n"
   ]
  },
  {
   "cell_type": "code",
   "execution_count": 4,
   "metadata": {},
   "outputs": [
    {
     "name": "stdout",
     "output_type": "stream",
     "text": [
      "test1: radec_glonlat(20,58,15,42) should produce 83.886 -2.67928:   83.886 -2.67928\n",
      "test2: glonlat_radec(glon,glat)   should produce 315 42:            315 42\n"
     ]
    }
   ],
   "source": [
    "if True:\n",
    "    # testing the functions\n",
    "    (glon,glat) = radec_glonlat(21,0,0,42)\n",
    "    (ra,dec)    = glonlat_radec(glon,glat)\n",
    "    print(\"test1: radec_glonlat(20,58,15,42) should produce 83.886 -2.67928:   %g %g\" % (glon,glat))\n",
    "    print(\"test2: glonlat_radec(glon,glat)   should produce 315 42:            %g %g\" % (ra,dec))\n"
   ]
  },
  {
   "cell_type": "markdown",
   "metadata": {},
   "source": [
    "some constants we might need (but actually not in the current code)"
   ]
  },
  {
   "cell_type": "code",
   "execution_count": 5,
   "metadata": {
    "collapsed": true
   },
   "outputs": [],
   "source": [
    "c        = 299792.458         # speed of light in km/s\n",
    "restfreq = 1420.405751786     # HI restfreq in MHz\n",
    "\n"
   ]
  },
  {
   "cell_type": "markdown",
   "metadata": {},
   "source": [
    "Now we set the input parameters for the spectrum. The filename, and the position, but we allow 3 methods to enter the position."
   ]
  },
  {
   "cell_type": "code",
   "execution_count": 6,
   "metadata": {
    "collapsed": true
   },
   "outputs": [],
   "source": [
    "fitsfile = 'BL.fits'\n",
    "\n",
    "method = 2\n",
    "\n",
    "if method == 1:                                           # give the GLON/GLAT\n",
    "    xpos = 83.0\n",
    "    ypos = -2.0\n",
    "    have_pixel = False\n",
    "elif method == 2:                                         # give the RA/DEC   \n",
    "    rah = 20\n",
    "    ram = 58\n",
    "    ras = 15\n",
    "    dec = 42\n",
    "    (xpos,ypos)= radec_glonlat(rah,ram,ras,dec)\n",
    "    have_pixel = False\n",
    "else:                                                      # give the pixel coordinates\n",
    "    xpos = 612\n",
    "    ypos = 193\n",
    "    have_pixel = True\n",
    "    "
   ]
  },
  {
   "cell_type": "code",
   "execution_count": 7,
   "metadata": {},
   "outputs": [
    {
     "name": "stdout",
     "output_type": "stream",
     "text": [
      "Shape of cube: : (145, 400, 800)\n"
     ]
    }
   ],
   "source": [
    "# open the fits file (a FITS file has one or more Header-Data-Unit's, HDU's)\n",
    "hdu = fits.open(fitsfile)\n",
    "\n",
    "# get a reference to the primary header and data.\n",
    "h = hdu[0].header\n",
    "d = hdu[0].data.squeeze()\n",
    "print(\"Shape of cube: :\",d.shape)\n",
    "if len(d.shape) != 3:                 # The data better be 3-dim numpy array now\n",
    "    print(\"Your cube is not 3D\")\n",
    "    sys.exit(1)\n",
    "\n",
    "# get the important coordinate conversion factors that scale between pixels and WCS\n",
    "\n",
    "# axis 1 is GLON, in degrees\n",
    "cdelt1 = h['CDELT1']\n",
    "crval1 = h['CRVAL1']\n",
    "crpix1 = h['CRPIX1']\n",
    "\n",
    "# axis 2 is GLAT, in degrees\n",
    "cdelt2 = h['CDELT2']\n",
    "crval2 = h['CRVAL2']\n",
    "crpix2 = h['CRPIX2']\n",
    "\n",
    "# axis 3 is FELO, velocities in m/s (which we convert to km/s)\n",
    "cdelt3 = h['CDELT3']\n",
    "crval3 = h['CRVAL3']\n",
    "crpix3 = h['CRPIX3']\n"
   ]
  },
  {
   "cell_type": "code",
   "execution_count": 8,
   "metadata": {},
   "outputs": [
    {
     "name": "stdout",
     "output_type": "stream",
     "text": [
      "Pixel: 613.292 194.106 (converted from WCS 83.673 -2.43343)\n"
     ]
    }
   ],
   "source": [
    "if not have_pixel:\n",
    "    # need to convert the xpos,ypos (in WCS) to pixel\n",
    "    #    xpos_wcs = (xpos_pix - crpix + 1) * cdelt + crval\n",
    "    #    xpos_pix = (xpos_wcs - crval)/cdelt + crpix - 1\n",
    "    xposl = xpos\n",
    "    yposb = ypos\n",
    "    xpos = (xposl - crval1)/cdelt1 + crpix1 - 1 \n",
    "    ypos = (yposb - crval2)/cdelt2 + crpix2 - 1\n",
    "    print(\"Pixel: %g %g (converted from WCS %g %g)\" % (xpos,ypos,xposl,yposb))\n",
    "    xpos = int(xpos)\n",
    "    ypos = int(ypos)"
   ]
  },
  {
   "cell_type": "markdown",
   "metadata": {},
   "source": [
    "Now we grab get the spectrum using a numpy slice operation.\n",
    "This will be the Y (intensity) coordinate in the plot.\n"
   ]
  },
  {
   "cell_type": "code",
   "execution_count": 9,
   "metadata": {},
   "outputs": [
    {
     "name": "stdout",
     "output_type": "stream",
     "text": [
      "MinMax in velocities: -360.0 360.0\n"
     ]
    }
   ],
   "source": [
    "flux     = d[:,ypos,xpos]\n",
    "\n",
    "#   some helper arrays for the X (velocity) coordinate in the plot\n",
    "nchan    = d.shape[0]       \n",
    "zero     = np.zeros(nchan)\n",
    "channeln = np.arange(nchan)\n",
    "channelf = (channeln-crpix3+1)*cdelt3 + crval3   # WCS in m/s, notice channeln starts at 0\n",
    "channelv = channelf / 1000.0                     # convert assumed m/s to km/s\n",
    "print(\"MinMax in velocities:\",channelv.min(), channelv.max())\n",
    "\n"
   ]
  },
  {
   "cell_type": "code",
   "execution_count": 10,
   "metadata": {},
   "outputs": [
    {
     "data": {
      "text/plain": [
       "<matplotlib.legend.Legend at 0x7fd5256835c0>"
      ]
     },
     "execution_count": 10,
     "metadata": {},
     "output_type": "execute_result"
    },
    {
     "data": {
      "image/png": "[encoded data removed]",
      "text/plain": [
       "<matplotlib.figure.Figure at 0x7fd4f8f8d588>"
      ]
     },
     "metadata": {},
     "output_type": "display_data"
    }
   ],
   "source": [
    "plt.plot(channelv,flux,'o-',markersize=2,label='HI-spectrum')\n",
    "plt.plot(channelv,zero,                  label='baseline')\n",
    "plt.xlabel(\"Doppler Velocity (km/s)\")\n",
    "plt.ylabel(\"Brightness\")\n",
    "plt.title(\"%s  @ %g %g\" % (fitsfile,xpos,ypos))\n",
    "plt.legend()"
   ]
  },
  {
   "cell_type": "markdown",
   "metadata": {},
   "source": [
    "Finally just some statistics of the spectrum"
   ]
  },
  {
   "cell_type": "code",
   "execution_count": 11,
   "metadata": {},
   "outputs": [
    {
     "name": "stdout",
     "output_type": "stream",
     "text": [
      "Mean and RMS of 145 points: 49.2847 136.037\n"
     ]
    }
   ],
   "source": [
    "print(\"Mean and RMS of %d points: %g %g\" % (len(flux),flux.mean(),flux.std()))"
   ]
  }
 ],
 "metadata": {
  "kernelspec": {
   "display_name": "Python 3",
   "language": "python",
   "name": "python3"
  },
  "language_info": {
   "codemirror_mode": {
    "name": "ipython",
    "version": 3
   },
   "file_extension": ".py",
   "mimetype": "text/x-python",
   "name": "python",
   "nbconvert_exporter": "python",
   "pygments_lexer": "ipython3",
   "version": "3.6.1"
  }
 },
 "nbformat": 4,
 "nbformat_minor": 2
}
